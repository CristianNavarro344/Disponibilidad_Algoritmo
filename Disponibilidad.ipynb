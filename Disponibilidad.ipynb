{
 "cells": [
  {
   "cell_type": "code",
   "execution_count": 1,
   "metadata": {},
   "outputs": [],
   "source": [
    "import pandas as pd\n",
    "from math import ceil\n",
    "from datetime import timedelta"
   ]
  },
  {
   "cell_type": "markdown",
   "metadata": {},
   "source": [
    "## Load Data from .csv"
   ]
  },
  {
   "cell_type": "markdown",
   "metadata": {},
   "source": [
    "### Forecast by day with & shifts"
   ]
  },
  {
   "cell_type": "code",
   "execution_count": 4,
   "metadata": {},
   "outputs": [
    {
     "name": "stderr",
     "output_type": "stream",
     "text": [
      "/var/folders/k4/9s2d7pcj1j15dhx3p_kwf5mm0000gn/T/ipykernel_66548/2187563886.py:1: FutureWarning: The argument 'date_parser' is deprecated and will be removed in a future version. Please use 'date_format' instead, or read your data in as 'object' dtype and then call 'to_datetime'.\n",
      "  shifts = pd.read_csv('shifts.csv', parse_dates=['Inicio_Turno','Fin_Turno'], date_parser=lambda x: pd.to_datetime(x, format=\"%H:%M\"))\n"
     ]
    }
   ],
   "source": [
    "\n",
    "shifts = pd.read_csv('shifts.csv', parse_dates=['Inicio_Turno','Fin_Turno'], date_parser=lambda x: pd.to_datetime(x, format=\"%H:%M\"))\n",
    "periodos = 24\n",
    "tiempo = [(timedelta(hours=0, minutes=15*i * 96/periodos)) for i in range(int(periodos))]\n",
    "shifts['in'] = shifts['Inicio_Turno'].apply(lambda x: tiempo.index(timedelta(hours=x.hour, minutes=x.minute)))\n",
    "shifts['out'] = shifts['Fin_Turno'].apply(lambda x: len(tiempo) if x.hour==0 and x.minute==0 else tiempo.index(timedelta(hours=x.hour, minutes=x.minute)))\n",
    "shifts['Lenght'] = shifts['out'] -shifts['in']\n",
    "\n",
    "forecast_by_day = pd.read_csv('forecast_by_day.csv', parse_dates=['date'])\n",
    "forecast_by_day['date'] = forecast_by_day['date'].astype('datetime64[ns]')\n",
    "dates = forecast_by_day['date'].dt.date.unique()\n",
    "forecast_by_day['week'] = forecast_by_day['date'].dt.isocalendar().week\n",
    "forecast_by_day['day'] = forecast_by_day['date'].dt.isocalendar().day"
   ]
  },
  {
   "cell_type": "markdown",
   "metadata": {},
   "source": [
    "## Parámetros\n",
    "__k1 & k2__: (k1 findes libres cada k2 findes)  \n",
    "__W_real__: cantidad de personas disponibles"
   ]
  },
  {
   "cell_type": "code",
   "execution_count": 5,
   "metadata": {},
   "outputs": [
    {
     "name": "stdout",
     "output_type": "stream",
     "text": [
      "Minimum workforce: 14\n",
      "Workforce is not enough, deficit:  5\n",
      "Workforce free by Weekend: 5\n"
     ]
    }
   ],
   "source": [
    "k1= 1\n",
    "k2 = 2\n",
    "W_real = 9\n",
    "\n",
    "max_wf_wk = forecast_by_day.query('day==7 or day==6')['Forecast'].max()\n",
    "b1 = ceil((k2 * max_wf_wk) / (k2-k1))\n",
    "D_week=0\n",
    "for w in forecast_by_day['week'].unique():\n",
    "    d = forecast_by_day[forecast_by_day['week']==w]['Forecast'].to_list()\n",
    "    D=0\n",
    "    for i in d:\n",
    "        D += i\n",
    "    if D > D_week:\n",
    "        D_week = D\n",
    "b2 = ceil(D/5)\n",
    "b3 = forecast_by_day['Forecast'].max()\n",
    "\n",
    "W = max(b1,b2,b3)\n",
    "print(f\"Minimum workforce: {W}\")\n",
    "if W_real > W:\n",
    "    print(\"Workforce is enough, surplus: \", W_real-W)\n",
    "    free_wf_wk = ceil(W_real*k1/k2)\n",
    "else:\n",
    "    print(\"Workforce is not enough, deficit: \", W-W_real)\n",
    "    free_wf_wk = ceil(W_real*k1/k2)\n",
    "\n",
    "print(f\"Workforce free by Weekend: {free_wf_wk}\")"
   ]
  },
  {
   "cell_type": "markdown",
   "metadata": {},
   "source": [
    "## Obtener superavit diario y agrupar colaborador por Domingo libre"
   ]
  },
  {
   "cell_type": "code",
   "execution_count": 6,
   "metadata": {},
   "outputs": [],
   "source": [
    "max_demanda_per_weekend = {w:forecast_by_day[forecast_by_day['week']==w].query('day==7 or day==6')['Forecast'].max() for w in forecast_by_day['week'].unique()}\n",
    "forecast_by_day['surplus'] = forecast_by_day.apply(lambda row: W_real - row['Forecast'] if row['day'] not in [6, 7] else W_real - max_demanda_per_weekend[row['week']], axis=1)\n",
    "max_dda_wk = forecast_by_day[(forecast_by_day['day']==7) | (forecast_by_day['day']==6)]['Forecast'].max()\n",
    "\n",
    "# Caso 1:2\n",
    "collab_list = [i for i in range(W_real)]\n",
    "collab_list_wknd = [collab_list[:int(len(collab_list)/2)], collab_list[int(len(collab_list)/2):]]\n",
    "collab_list_wknd = collab_list_wknd*2\n",
    "\n",
    "free_wknd_collab = {}\n",
    "for w, cs in zip(max_demanda_per_weekend, collab_list_wknd):\n",
    "    free_wknd_collab[w] = cs\n"
   ]
  },
  {
   "cell_type": "markdown",
   "metadata": {},
   "source": [
    "## Generar Disponibilidad"
   ]
  },
  {
   "cell_type": "code",
   "execution_count": 7,
   "metadata": {},
   "outputs": [],
   "source": [
    "def two_highest_keyvalue(dicc):\n",
    "    dicc_copy = dict(dicc)\n",
    "    key1 = max(dicc_copy, key=dicc_copy.get)\n",
    "    del dicc_copy[key1]\n",
    "    key2 = max(dicc_copy, key=dicc_copy.get)\n",
    "    return [key1, key2]"
   ]
  },
  {
   "cell_type": "code",
   "execution_count": 8,
   "metadata": {},
   "outputs": [],
   "source": [
    "data = []\n",
    "for c in collab_list:\n",
    "    for fecha in dates:\n",
    "        data.append([c, fecha])\n",
    "\n",
    "df_availability = pd.DataFrame(data, columns=['collaborator', 'date'])\n",
    "df_availability['availability'] = 1\n",
    "df_availability['date'] = df_availability['date'].astype('datetime64[ns]')\n",
    "df_availability['week'] = df_availability['date'].dt.isocalendar().week\n",
    "df_availability['day'] = df_availability['date'].dt.isocalendar().day\n",
    "\n",
    "for w in free_wknd_collab: # Dar domingo libres\n",
    "    for c in free_wknd_collab[w]:\n",
    "        filtro = (df_availability[\"collaborator\"] == c) & (df_availability[\"day\"] == 7) & (df_availability[\"week\"] == w)\n",
    "        df_availability.loc[filtro, \"availability\"] = 0\n",
    "\n",
    "day_off_by_week = {}\n",
    "for wk in  free_wknd_collab: # Pares días libres\n",
    "    surplus_week = forecast_by_day[(forecast_by_day['week']==wk) & (forecast_by_day['day']!=7)][['day','surplus']].set_index('day').to_dict()['surplus']\n",
    "    day_off_pairs = []\n",
    "    for j in range(len(collab_list) - len(free_wknd_collab[wk])):\n",
    "        keys = two_highest_keyvalue(surplus_week)\n",
    "        surplus_week[keys[0]] -= 1\n",
    "        surplus_week[keys[1]] -= 1\n",
    "        day_off_pairs.append(keys)\n",
    "\n",
    "    day_off_by_week[wk] = day_off_pairs\n",
    "\n",
    "for wk in day_off_by_week: # Dar libres entre semana\n",
    "    j = 0\n",
    "    for c in collab_list:\n",
    "        if df_availability[(df_availability['collaborator']==c) & (df_availability['week']==wk)]['availability'].sum() == 7:\n",
    "            days_off = day_off_by_week[wk][j]\n",
    "            filter1 = (df_availability['collaborator']==c) & (df_availability['week']==wk) & (df_availability['day']==days_off[0])\n",
    "            filter2 = (df_availability['collaborator']==c) & (df_availability['week']==wk) & (df_availability['day']==days_off[1])\n",
    "            df_availability.loc[filter1, \"availability\"] = 0\n",
    "            df_availability.loc[filter2, \"availability\"] = 0\n",
    "            j+=1\n"
   ]
  },
  {
   "cell_type": "code",
   "execution_count": 9,
   "metadata": {},
   "outputs": [
    {
     "data": {
      "text/html": [
       "<div>\n",
       "<style scoped>\n",
       "    .dataframe tbody tr th:only-of-type {\n",
       "        vertical-align: middle;\n",
       "    }\n",
       "\n",
       "    .dataframe tbody tr th {\n",
       "        vertical-align: top;\n",
       "    }\n",
       "\n",
       "    .dataframe thead th {\n",
       "        text-align: right;\n",
       "    }\n",
       "</style>\n",
       "<table border=\"1\" class=\"dataframe\">\n",
       "  <thead>\n",
       "    <tr style=\"text-align: right;\">\n",
       "      <th></th>\n",
       "      <th>collaborator</th>\n",
       "      <th>date</th>\n",
       "      <th>availability</th>\n",
       "      <th>week</th>\n",
       "      <th>day</th>\n",
       "    </tr>\n",
       "  </thead>\n",
       "  <tbody>\n",
       "    <tr>\n",
       "      <th>0</th>\n",
       "      <td>0</td>\n",
       "      <td>2023-09-04</td>\n",
       "      <td>1</td>\n",
       "      <td>36</td>\n",
       "      <td>1</td>\n",
       "    </tr>\n",
       "    <tr>\n",
       "      <th>1</th>\n",
       "      <td>0</td>\n",
       "      <td>2023-09-05</td>\n",
       "      <td>1</td>\n",
       "      <td>36</td>\n",
       "      <td>2</td>\n",
       "    </tr>\n",
       "    <tr>\n",
       "      <th>2</th>\n",
       "      <td>0</td>\n",
       "      <td>2023-09-06</td>\n",
       "      <td>1</td>\n",
       "      <td>36</td>\n",
       "      <td>3</td>\n",
       "    </tr>\n",
       "    <tr>\n",
       "      <th>3</th>\n",
       "      <td>0</td>\n",
       "      <td>2023-09-07</td>\n",
       "      <td>1</td>\n",
       "      <td>36</td>\n",
       "      <td>4</td>\n",
       "    </tr>\n",
       "    <tr>\n",
       "      <th>4</th>\n",
       "      <td>0</td>\n",
       "      <td>2023-09-08</td>\n",
       "      <td>1</td>\n",
       "      <td>36</td>\n",
       "      <td>5</td>\n",
       "    </tr>\n",
       "    <tr>\n",
       "      <th>...</th>\n",
       "      <td>...</td>\n",
       "      <td>...</td>\n",
       "      <td>...</td>\n",
       "      <td>...</td>\n",
       "      <td>...</td>\n",
       "    </tr>\n",
       "    <tr>\n",
       "      <th>247</th>\n",
       "      <td>8</td>\n",
       "      <td>2023-09-27</td>\n",
       "      <td>1</td>\n",
       "      <td>39</td>\n",
       "      <td>3</td>\n",
       "    </tr>\n",
       "    <tr>\n",
       "      <th>248</th>\n",
       "      <td>8</td>\n",
       "      <td>2023-09-28</td>\n",
       "      <td>1</td>\n",
       "      <td>39</td>\n",
       "      <td>4</td>\n",
       "    </tr>\n",
       "    <tr>\n",
       "      <th>249</th>\n",
       "      <td>8</td>\n",
       "      <td>2023-09-29</td>\n",
       "      <td>1</td>\n",
       "      <td>39</td>\n",
       "      <td>5</td>\n",
       "    </tr>\n",
       "    <tr>\n",
       "      <th>250</th>\n",
       "      <td>8</td>\n",
       "      <td>2023-09-30</td>\n",
       "      <td>1</td>\n",
       "      <td>39</td>\n",
       "      <td>6</td>\n",
       "    </tr>\n",
       "    <tr>\n",
       "      <th>251</th>\n",
       "      <td>8</td>\n",
       "      <td>2023-10-01</td>\n",
       "      <td>0</td>\n",
       "      <td>39</td>\n",
       "      <td>7</td>\n",
       "    </tr>\n",
       "  </tbody>\n",
       "</table>\n",
       "<p>252 rows × 5 columns</p>\n",
       "</div>"
      ],
      "text/plain": [
       "     collaborator       date  availability  week  day\n",
       "0               0 2023-09-04             1    36    1\n",
       "1               0 2023-09-05             1    36    2\n",
       "2               0 2023-09-06             1    36    3\n",
       "3               0 2023-09-07             1    36    4\n",
       "4               0 2023-09-08             1    36    5\n",
       "..            ...        ...           ...   ...  ...\n",
       "247             8 2023-09-27             1    39    3\n",
       "248             8 2023-09-28             1    39    4\n",
       "249             8 2023-09-29             1    39    5\n",
       "250             8 2023-09-30             1    39    6\n",
       "251             8 2023-10-01             0    39    7\n",
       "\n",
       "[252 rows x 5 columns]"
      ]
     },
     "execution_count": 9,
     "metadata": {},
     "output_type": "execute_result"
    }
   ],
   "source": [
    "df_availability"
   ]
  },
  {
   "cell_type": "code",
   "execution_count": null,
   "metadata": {},
   "outputs": [],
   "source": []
  }
 ],
 "metadata": {
  "kernelspec": {
   "display_name": "Python 3",
   "language": "python",
   "name": "python3"
  },
  "language_info": {
   "codemirror_mode": {
    "name": "ipython",
    "version": 3
   },
   "file_extension": ".py",
   "mimetype": "text/x-python",
   "name": "python",
   "nbconvert_exporter": "python",
   "pygments_lexer": "ipython3",
   "version": "3.11.5"
  },
  "orig_nbformat": 4
 },
 "nbformat": 4,
 "nbformat_minor": 2
}
